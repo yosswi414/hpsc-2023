{
 "cells": [
  {
   "cell_type": "markdown",
   "metadata": {},
   "source": [
    "# Using the line and memory profilers\n",
    "## `line_profiler`"
   ]
  },
  {
   "cell_type": "code",
   "execution_count": 1,
   "metadata": {},
   "outputs": [],
   "source": [
    "import numpy as np"
   ]
  },
  {
   "cell_type": "code",
   "execution_count": 2,
   "metadata": {},
   "outputs": [],
   "source": [
    "def euclidean_broadcast(x, y):\n",
    "    diff = x[:, np.newaxis, :] - y[np.newaxis, :, :]\n",
    "    return (diff * diff).sum(axis=2)"
   ]
  },
  {
   "cell_type": "code",
   "execution_count": 3,
   "metadata": {},
   "outputs": [],
   "source": [
    "def euclidean_trick(x, y):\n",
    "    x2 = np.einsum('ij,ij->i', x, x)[:, np.newaxis]\n",
    "    y2 = np.einsum('ij,ij->i', y, y)[np.newaxis, :]\n",
    "    xy = np.dot(x, y.T)\n",
    "    return np.abs(x2 + y2 - 2. * xy)"
   ]
  },
  {
   "cell_type": "code",
   "execution_count": 4,
   "metadata": {},
   "outputs": [
    {
     "name": "stdout",
     "output_type": "stream",
     "text": [
      "1.42 s ± 2 ms per loop (mean ± std. dev. of 7 runs, 1 loop each)\n",
      "84.7 ms ± 750 µs per loop (mean ± std. dev. of 7 runs, 10 loops each)\n"
     ]
    }
   ],
   "source": [
    "nsamples = 2000\n",
    "nfeat = 50\n",
    "\n",
    "x = 10. * np.random.random([nsamples, nfeat])\n",
    "\n",
    "%timeit euclidean_broadcast(x, x)\n",
    "%timeit euclidean_trick(x, x)"
   ]
  },
  {
   "cell_type": "code",
   "execution_count": 5,
   "metadata": {},
   "outputs": [],
   "source": [
    "%load_ext line_profiler"
   ]
  },
  {
   "cell_type": "code",
   "execution_count": 6,
   "metadata": {},
   "outputs": [
    {
     "data": {
      "text/plain": [
       "\u001b[0;31mDocstring:\u001b[0m\n",
       "Execute a statement under the line-by-line profiler from the\n",
       "line_profiler module.\n",
       "\n",
       "Usage:\n",
       "%lprun -f func1 -f func2 <statement>\n",
       "\n",
       "The given statement (which doesn't require quote marks) is run via the\n",
       "LineProfiler. Profiling is enabled for the functions specified by the -f\n",
       "options. The statistics will be shown side-by-side with the code through the\n",
       "pager once the statement has completed.\n",
       "\n",
       "Options:\n",
       "\n",
       "-f <function>: LineProfiler only profiles functions and methods it is told\n",
       "to profile.  This option tells the profiler about these functions. Multiple\n",
       "-f options may be used. The argument may be any expression that gives\n",
       "a Python function or method object. However, one must be careful to avoid\n",
       "spaces that may confuse the option parser.\n",
       "\n",
       "-m <module>: Get all the functions/methods in a module\n",
       "\n",
       "One or more -f or -m options are required to get any useful results.\n",
       "\n",
       "-D <filename>: dump the raw statistics out to a pickle file on disk. The\n",
       "usual extension for this is \".lprof\". These statistics may be viewed later\n",
       "by running line_profiler.py as a script.\n",
       "\n",
       "-T <filename>: dump the text-formatted statistics with the code side-by-side\n",
       "out to a text file.\n",
       "\n",
       "-r: return the LineProfiler object after it has completed profiling.\n",
       "\n",
       "-s: strip out all entries from the print-out that have zeros.\n",
       "\n",
       "-u: specify time unit for the print-out in seconds.\n",
       "\u001b[0;31mFile:\u001b[0m      ~/.pyenv/versions/3.9.16/envs/jupyter/lib/python3.9/site-packages/line_profiler/ipython_extension.py"
      ]
     },
     "metadata": {},
     "output_type": "display_data"
    }
   ],
   "source": [
    "%lprun?"
   ]
  },
  {
   "cell_type": "code",
   "execution_count": 7,
   "metadata": {},
   "outputs": [
    {
     "data": {
      "text/plain": [
       "Timer unit: 1e-09 s\n",
       "\n",
       "Total time: 0.0826756 s\n",
       "File: /scr/13306566.1.all.q/ipykernel_13955/3465809475.py\n",
       "Function: euclidean_trick at line 1\n",
       "\n",
       "Line #      Hits         Time  Per Hit   % Time  Line Contents\n",
       "==============================================================\n",
       "     1                                           def euclidean_trick(x, y):\n",
       "     2         1     505563.0 505563.0      0.6      x2 = np.einsum('ij,ij->i', x, x)[:, np.newaxis]\n",
       "     3         1     118092.0 118092.0      0.1      y2 = np.einsum('ij,ij->i', y, y)[np.newaxis, :]\n",
       "     4         1   27113912.0 27113912.0     32.8      xy = np.dot(x, y.T)\n",
       "     5         1   54938024.0 54938024.0     66.5      return np.abs(x2 + y2 - 2. * xy)"
      ]
     },
     "metadata": {},
     "output_type": "display_data"
    }
   ],
   "source": [
    "%lprun -f euclidean_trick euclidean_trick(x, x)"
   ]
  },
  {
   "cell_type": "code",
   "execution_count": 8,
   "metadata": {},
   "outputs": [
    {
     "data": {
      "text/plain": [
       "Timer unit: 1e-09 s\n",
       "\n",
       "Total time: 1.4136 s\n",
       "File: /scr/13306566.1.all.q/ipykernel_13955/709754415.py\n",
       "Function: euclidean_broadcast at line 1\n",
       "\n",
       "Line #      Hits         Time  Per Hit   % Time  Line Contents\n",
       "==============================================================\n",
       "     1                                           def euclidean_broadcast(x, y):\n",
       "     2         1  656892146.0 656892146.0     46.5      diff = x[:, np.newaxis, :] - y[np.newaxis, :, :]\n",
       "     3         1  756710921.0 756710921.0     53.5      return (diff * diff).sum(axis=2)"
      ]
     },
     "metadata": {},
     "output_type": "display_data"
    }
   ],
   "source": [
    "%lprun -f euclidean_broadcast euclidean_broadcast(x,x)"
   ]
  },
  {
   "cell_type": "markdown",
   "metadata": {},
   "source": [
    "## cProfiler"
   ]
  },
  {
   "cell_type": "code",
   "execution_count": 9,
   "metadata": {},
   "outputs": [
    {
     "name": "stdout",
     "output_type": "stream",
     "text": [
      " "
     ]
    },
    {
     "data": {
      "text/plain": [
       "         25 function calls in 0.083 seconds\n",
       "\n",
       "   Ordered by: internal time\n",
       "\n",
       "   ncalls  tottime  percall  cumtime  percall filename:lineno(function)\n",
       "        1    0.055    0.055    0.082    0.082 3465809475.py:1(euclidean_trick)\n",
       "        3    0.027    0.009    0.027    0.009 {built-in method numpy.core._multiarray_umath.implement_array_function}\n",
       "        1    0.001    0.001    0.083    0.083 <string>:1(<module>)\n",
       "        2    0.001    0.000    0.001    0.000 {built-in method numpy.core._multiarray_umath.c_einsum}\n",
       "        1    0.000    0.000    0.083    0.083 {built-in method builtins.exec}\n",
       "        2    0.000    0.000    0.001    0.000 <__array_function__ internals>:177(einsum)\n",
       "        1    0.000    0.000    0.027    0.027 <__array_function__ internals>:177(dot)\n",
       "        2    0.000    0.000    0.001    0.000 einsumfunc.py:1009(einsum)\n",
       "       10    0.000    0.000    0.000    0.000 einsumfunc.py:1001(_einsum_dispatcher)\n",
       "        1    0.000    0.000    0.000    0.000 {method 'disable' of '_lsprof.Profiler' objects}\n",
       "        1    0.000    0.000    0.000    0.000 multiarray.py:740(dot)"
      ]
     },
     "metadata": {},
     "output_type": "display_data"
    }
   ],
   "source": [
    "%prun euclidean_trick(x, x)"
   ]
  },
  {
   "cell_type": "code",
   "execution_count": null,
   "metadata": {},
   "outputs": [],
   "source": []
  }
 ],
 "metadata": {
  "kernelspec": {
   "display_name": "Python 3 (ipykernel)",
   "language": "python",
   "name": "python3"
  },
  "language_info": {
   "codemirror_mode": {
    "name": "ipython",
    "version": 3
   },
   "file_extension": ".py",
   "mimetype": "text/x-python",
   "name": "python",
   "nbconvert_exporter": "python",
   "pygments_lexer": "ipython3",
   "version": "3.9.16"
  }
 },
 "nbformat": 4,
 "nbformat_minor": 4
}
