{
 "cells": [
  {
   "cell_type": "code",
   "execution_count": 3,
   "id": "a96a2bff-d087-42d1-b0e3-4c2439034580",
   "metadata": {},
   "outputs": [],
   "source": [
    "import numpy as np\n",
    "import matplotlib.pyplot as plt\n",
    "from numba import njit\n",
    "\n",
    "nx = 41\n",
    "ny = 41\n",
    "nt = 500\n",
    "nit = 50\n",
    "dx = 2 / (nx - 1)\n",
    "dy = 2 / (ny - 1)\n",
    "dt = .01\n",
    "rho = 1\n",
    "nu = .02\n",
    "\n",
    "x = np.linspace(0, 2, nx)\n",
    "y = np.linspace(0, 2, ny)\n",
    "\n",
    "u = np.zeros((ny, nx))\n",
    "v = np.zeros((ny, nx))\n",
    "p = np.zeros((ny, nx))\n",
    "b = np.zeros((ny, nx))\n",
    "X, Y = np.meshgrid(x, y)\n"
   ]
  },
  {
   "cell_type": "code",
   "execution_count": 9,
   "id": "23392c79-881f-4be5-89cd-a394645f56a7",
   "metadata": {},
   "outputs": [
    {
     "data": {
      "text/plain": [
       "array([[0.  , 0.05, 0.1 , ..., 1.9 , 1.95, 2.  ],\n",
       "       [0.  , 0.05, 0.1 , ..., 1.9 , 1.95, 2.  ],\n",
       "       [0.  , 0.05, 0.1 , ..., 1.9 , 1.95, 2.  ],\n",
       "       ...,\n",
       "       [0.  , 0.05, 0.1 , ..., 1.9 , 1.95, 2.  ],\n",
       "       [0.  , 0.05, 0.1 , ..., 1.9 , 1.95, 2.  ],\n",
       "       [0.  , 0.05, 0.1 , ..., 1.9 , 1.95, 2.  ]])"
      ]
     },
     "execution_count": 9,
     "metadata": {},
     "output_type": "execute_result"
    }
   ],
   "source": [
    "X"
   ]
  },
  {
   "cell_type": "code",
   "execution_count": null,
   "id": "bf9354d5-a879-4350-b0b4-3e32a2eeddae",
   "metadata": {},
   "outputs": [],
   "source": [
    "\n",
    "\n",
    "for n in range(nt):\n",
    "    @njit(parallel=True)\n",
    "    for j in range(1, ny-1):\n",
    "        for i in range(1, nx-1):\n",
    "            b[j, i] = rho * (1 / dt *\\\n",
    "                    ((u[j, i+1] - u[j, i-1]) / (2 * dx) + (v[j+1, i] - v[j-1, i]) / (2 * dy)) -\\\n",
    "                    ((u[j, i+1] - u[j, i-1]) / (2 * dx))**2 - 2 * ((u[j+1, i] - u[j-1, i]) / (2 * dy) *\\\n",
    "                     (v[j, i+1] - v[j, i-1]) / (2 * dx)) - ((v[j+1, i] - v[j-1, i]) / (2 * dy))**2)\n",
    "    @njit(parallel=True)\n",
    "    for it in range(nit):\n",
    "        pn = p.copy()\n",
    "        for j in range(1, ny-1):\n",
    "            for i in range(1, nx-1):\n",
    "                p[j, i] = (dy**2 * (pn[j, i+1] + pn[j, i-1]) +\\\n",
    "                           dx**2 * (pn[j+1, i] + pn[j-1, i]) -\\\n",
    "                           b[j, i] * dx**2 * dy**2)\\\n",
    "                          / (2 * (dx**2 + dy**2))\n",
    "        p[:, -1] = p[:, -2]\n",
    "        p[0, :] = p[1, :]\n",
    "        p[:, 0] = p[:, 1]\n",
    "        p[-1, :] = 0\n",
    "    un = u.copy()\n",
    "    vn = v.copy()\n",
    "    @njit(parallel=True)\n",
    "    for j in range(1, ny-1):\n",
    "        for i in range(1, nx-1):\n",
    "            u[j, i] = un[j, i] - un[j, i] * dt / dx * (un[j, i] - un[j, i - 1])\\\n",
    "                               - un[j, i] * dt / dy * (un[j, i] - un[j - 1, i])\\\n",
    "                               - dt / (2 * rho * dx) * (p[j, i+1] - p[j, i-1])\\\n",
    "                               + nu * dt / dx**2 * (un[j, i+1] - 2 * un[j, i] + un[j, i-1])\\\n",
    "                               + nu * dt / dy**2 * (un[j+1, i] - 2 * un[j, i] + un[j-1, i])\n",
    "            v[j, i] = vn[j, i] - vn[j, i] * dt / dx * (vn[j, i] - vn[j, i - 1])\\\n",
    "                               - vn[j, i] * dt / dy * (vn[j, i] - vn[j - 1, i])\\\n",
    "                               - dt / (2 * rho * dx) * (p[j+1, i] - p[j-1, i])\\\n",
    "                               + nu * dt / dx**2 * (vn[j, i+1] - 2 * vn[j, i] + vn[j, i-1])\\\n",
    "                               + nu * dt / dy**2 * (vn[j+1, i] - 2 * vn[j, i] + vn[j-1, i])\n",
    "    u[0, :]  = 0\n",
    "    u[:, 0]  = 0\n",
    "    u[:, -1] = 0\n",
    "    u[-1, :] = 1\n",
    "    v[0, :]  = 0\n",
    "    v[-1, :] = 0\n",
    "    v[:, 0]  = 0\n",
    "    v[:, -1] = 0\n",
    "    plt.contourf(X, Y, p, alpha=0.5, cmap=plt.cm.coolwarm)\n",
    "    plt.quiver(X[::2, ::2], Y[::2, ::2], u[::2, ::2], v[::2, ::2])\n",
    "    plt.pause(.01)\n",
    "    plt.clf()\n",
    "plt.show()\n"
   ]
  }
 ],
 "metadata": {
  "kernelspec": {
   "display_name": "Python 3 (ipykernel)",
   "language": "python",
   "name": "python3"
  },
  "language_info": {
   "codemirror_mode": {
    "name": "ipython",
    "version": 3
   },
   "file_extension": ".py",
   "mimetype": "text/x-python",
   "name": "python",
   "nbconvert_exporter": "python",
   "pygments_lexer": "ipython3",
   "version": "3.9.16"
  }
 },
 "nbformat": 4,
 "nbformat_minor": 5
}
